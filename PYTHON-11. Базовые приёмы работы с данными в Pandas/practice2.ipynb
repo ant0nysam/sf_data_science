{
 "cells": [
  {
   "cell_type": "code",
   "execution_count": 107,
   "metadata": {},
   "outputs": [
    {
     "name": "stdout",
     "output_type": "stream",
     "text": [
      "9\n"
     ]
    }
   ],
   "source": [
    "import pandas as pd\n",
    "\n",
    "velo_data = pd.read_csv('data/citibike-tripdata.csv')\n",
    "velo_df = velo_data.copy()\n",
    "subscribers = (velo_df[velo_df['usertype'] == 'Subscriber']).shape[0]\n",
    "customers = (velo_df[velo_df['usertype'] == 'Customer']).shape[0]\n",
    "\n",
    "if subscribers > customers :\n",
    "    clients_dom = round((subscribers / 300000), 2)\n",
    "else:\n",
    "    clients_dom = round((customers / 300000), 2)\n",
    "\n",
    "velo_df.drop(['start station id', 'end station id'], axis=1, inplace=True)\n",
    "velo_df['age'] = 2018 - velo_df['birth year']\n",
    "velo_df.drop(['birth year'], axis=1, inplace=True)\n",
    "velo_df['stoptime'] = pd.to_datetime(velo_df['stoptime'])\n",
    "velo_df['starttime'] = pd.to_datetime(velo_df['starttime'])\n",
    "velo_df['trip duration'] = velo_df['stoptime'] - velo_df['starttime']\n",
    "#print(velo_df['starttime'].dt.dayofweek.value_counts())\n",
    "velo_df['weekend'] = velo_df['starttime'].dt.dayofweek.apply(lambda x: 1 if x > 4 else 0)\n",
    "def tod(x):\n",
    "    if 0 <= x <= 6:\n",
    "        return 'night'\n",
    "    elif 6 < x <= 12:\n",
    "            return 'morning'\n",
    "    elif 12 < x <= 18:\n",
    "            return 'day'\n",
    "    else:\n",
    "        return 'evening'\n",
    "velo_df['time_of_day'] = velo_df['starttime'].dt.hour.apply(tod)\n",
    "night = velo_df[velo_df['time_of_day'] == 'night'].shape[0]\n",
    "day = velo_df[velo_df['time_of_day'] == 'day'].shape[0]\n",
    "print(round(day/night))"
   ]
  }
 ],
 "metadata": {
  "kernelspec": {
   "display_name": "Python 3",
   "language": "python",
   "name": "python3"
  },
  "language_info": {
   "codemirror_mode": {
    "name": "ipython",
    "version": 3
   },
   "file_extension": ".py",
   "mimetype": "text/x-python",
   "name": "python",
   "nbconvert_exporter": "python",
   "pygments_lexer": "ipython3",
   "version": "3.8.10"
  }
 },
 "nbformat": 4,
 "nbformat_minor": 2
}
